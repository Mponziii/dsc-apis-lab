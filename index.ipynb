{
 "cells": [
  {
   "cell_type": "markdown",
   "metadata": {},
   "source": [
    "# APIs - Cumulative Lab\n",
    "\n",
    "\n",
    "## Introduction \n",
    "\n",
    "We've seen how the Yelp API works and how to create basic visualizations using Folium. It's time to put those skills to work in order to create a working map! Taking things a step further, you'll also independently explore how to perform pagination in order to retrieve a full results set from the Yelp API.\n",
    "\n",
    "## Objectives\n",
    "\n",
    "You will be able to: \n",
    "\n",
    "* Practice using functions to organize your code\n",
    "* Use pagination to retrieve all results from an API query\n",
    "* Practice parsing data returned from an API query\n",
    "* Practice interpreting visualizations of a dataset\n",
    "* Create maps using Folium"
   ]
  },
  {
   "cell_type": "markdown",
   "metadata": {},
   "source": [
    "## Your Task: Query Yelp for All Businesses in a Category and Analyze the Results\n",
    "\n",
    "![restaurant counter with pizza](images/restaurant_counter.jpg)\n",
    "\n",
    "Photo by <a href=\"https://unsplash.com/@jordanmadrid?utm_source=unsplash&utm_medium=referral&utm_content=creditCopyText\">Jordan Madrid</a> on <a href=\"/s/photos/pizza-restaurant?utm_source=unsplash&utm_medium=referral&utm_content=creditCopyText\">Unsplash</a>"
   ]
  },
  {
   "cell_type": "markdown",
   "metadata": {},
   "source": [
    "### Overview\n",
    "\n",
    "You've now worked with some API calls, but we have yet to see how to retrieve a more complete dataset in a programmatic manner. In this lab, you will write a query of businesses on Yelp, then use *pagination* to retrieve all possible results for that query. Then you will create a summary of your findings, including a Folium map of the geographic locations of those businesses.\n",
    "\n",
    "### Technical Details\n",
    "\n",
    "Returning to the Yelp API, the [documentation](https://www.yelp.com/developers/documentation/v3/business_search) also provides us details regarding the **API limits**. These often include details about the number of requests a user is allowed to make within a specified time limit and the maximum number of results to be returned. In this case, we are told that any request has a **maximum of 50 results per request** and defaults to 20. Furthermore, any search will be limited to a **total of 1000 results**. To retrieve all 1000 of these results, we would have to page through the results piece by piece, retrieving 50 at a time. Processes such as these are often referred to as pagination.\n",
    "\n",
    "Also, be mindful of the **API** ***rate*** **limits**. You can only make **5000 requests per day** and are also can make requests too fast. Start prototyping small before running a loop that could be faulty. You can also use `time.sleep(n)` to add delays. For more details see https://www.yelp.com/developers/documentation/v3/rate_limiting.\n",
    "\n",
    "In this lab, you will define a search and then paginate over the results to retrieve all of the results. You'll then parse these responses as a list of dictionaries (for further exploration) and create a map using Folium to visualize the results geographically.\n",
    "\n",
    "### Requirements\n",
    "\n",
    "#### 1. Make the Initial Request\n",
    "\n",
    "Start by filling in your API key to make the initial request to the business search API. Investigate the structure of the response you get back and start figuring out how you will extract the relevant information.\n",
    "\n",
    "#### 2. Add Pagination\n",
    "\n",
    "Using loops and functions, collect the maximum number of results for your query from the API.\n",
    "\n",
    "#### 3. Perform Exploratory Analysis\n",
    "\n",
    "Interpret visualizations related to the price range, average rating, and number of reviews for all query results.\n",
    "\n",
    "#### 4. Create a Folium Map\n",
    "\n",
    "Using latitude and longitude data, plot the query results on an interactive map."
   ]
  },
  {
   "cell_type": "markdown",
   "metadata": {},
   "source": [
    "## 1. Make the Initial Request\n",
    "\n",
    "### Querying\n",
    "\n",
    "Start by making an initial request to the Yelp API. Your search must include at least 2 parameters: **term** and **location**. For example, you might search for pizza restaurants in NYC. The term and location is up to you but make the request below.\n",
    "\n",
    "Use the `requests` library ([documentation here](https://requests.readthedocs.io/en/master/user/quickstart/#make-a-request)).\n",
    "\n",
    "You'll also need an API key from Yelp. If you haven't done this already, go to the Yelp [Manage App page](https://www.yelp.com/developers/v3/manage_app) and create a new app (after making an account if you haven't already)."
   ]
  },
  {
   "cell_type": "code",
   "execution_count": 2,
   "metadata": {},
   "outputs": [
    {
     "data": {
      "text/plain": [
       "<Response [200]>"
      ]
     },
     "execution_count": 2,
     "metadata": {},
     "output_type": "execute_result"
    }
   ],
   "source": [
    "# Replace None with appropriate code\n",
    "\n",
    "# Import the requests library\n",
    "import requests\n",
    "\n",
    "# Get this from the \"Manage App\" page. Make sure you set them\n",
    "# back to None before pushing this to GitHub, since otherwise\n",
    "# your credentials will be compromised\n",
    "api_key = 'lH_YQCyxEpinx6b0mtrAYknWomVagPiMSUPQs272D-WK-xSVVqlW-z8wuwdsYsjNEGb4yh9_mjN2j6CwqDyD7jmxPg7lyFhJ_t3Ksk0Hww6oSWPWptqh7sdr_m4DY3Yx'\n",
    "\n",
    "# These can be whatever you want! But the solution uses \"pizza\"\n",
    "# and \"New York NY\" if you want to compare your work directly\n",
    "term = \"pizza\"\n",
    "location = \"New York NY\"\n",
    "\n",
    "# Set up params for request\n",
    "url = \"https://api.yelp.com/v3/businesses/search\"\n",
    "headers = {\n",
    "    \"Authorization\": \"Bearer {}\".format(api_key)\n",
    "}\n",
    "url_params = {\n",
    "    \"term\": term.replace(\" \", \"+\"),\n",
    "    \"location\": location.replace(\" \", \"+\")\n",
    "}\n",
    "\n",
    "# Make the request using requests.get, passing in\n",
    "# url, headers=headers, and params=url_params\n",
    "response = requests.get(url, headers=headers, params=url_params)\n",
    "\n",
    "# Confirm we got a 200 response\n",
    "response"
   ]
  },
  {
   "cell_type": "code",
   "execution_count": 3,
   "metadata": {},
   "outputs": [
    {
     "data": {
      "text/plain": [
       "dict_keys(['businesses', 'total', 'region'])"
      ]
     },
     "execution_count": 3,
     "metadata": {},
     "output_type": "execute_result"
    }
   ],
   "source": [
    "# Run this cell without changes\n",
    "\n",
    "# Get the response body in JSON format\n",
    "response_json = response.json()\n",
    "# View the keys\n",
    "response_json.keys()"
   ]
  },
  {
   "cell_type": "markdown",
   "metadata": {},
   "source": [
    "### Extracting Data\n",
    "\n",
    "Now, retrieve the value associated with the `'businesses'` key, and inspect its contents."
   ]
  },
  {
   "cell_type": "code",
   "execution_count": 34,
   "metadata": {},
   "outputs": [
    {
     "data": {
      "text/plain": [
       "[{'id': 'zj8Lq1T8KIC5zwFief15jg',\n",
       "  'alias': 'prince-street-pizza-new-york-2',\n",
       "  'name': 'Prince Street Pizza',\n",
       "  'image_url': 'https://s3-media4.fl.yelpcdn.com/bphoto/HVjttLctuIzKL3LSlsRf-w/o.jpg',\n",
       "  'is_closed': False,\n",
       "  'url': 'https://www.yelp.com/biz/prince-street-pizza-new-york-2?adjust_creative=Jlc0a4YH3cxmvO6YXqsQtw&utm_campaign=yelp_api_v3&utm_medium=api_v3_business_search&utm_source=Jlc0a4YH3cxmvO6YXqsQtw',\n",
       "  'review_count': 4457,\n",
       "  'categories': [{'alias': 'pizza', 'title': 'Pizza'},\n",
       "   {'alias': 'italian', 'title': 'Italian'}],\n",
       "  'rating': 4.5,\n",
       "  'coordinates': {'latitude': 40.72308755605564,\n",
       "   'longitude': -73.99453001177575},\n",
       "  'transactions': ['delivery', 'pickup'],\n",
       "  'price': '$',\n",
       "  'location': {'address1': '27 Prince St',\n",
       "   'address2': None,\n",
       "   'address3': '',\n",
       "   'city': 'New York',\n",
       "   'zip_code': '10012',\n",
       "   'country': 'US',\n",
       "   'state': 'NY',\n",
       "   'display_address': ['27 Prince St', 'New York, NY 10012']},\n",
       "  'phone': '+12129664100',\n",
       "  'display_phone': '(212) 966-4100',\n",
       "  'distance': 1961.8771417367063},\n",
       " {'id': 'ysqgdbSrezXgVwER2kQWKA',\n",
       "  'alias': 'julianas-brooklyn-3',\n",
       "  'name': \"Juliana's\",\n",
       "  'image_url': 'https://s3-media1.fl.yelpcdn.com/bphoto/OCDZ4nXoaMHF0TraV0u2-g/o.jpg',\n",
       "  'is_closed': False,\n",
       "  'url': 'https://www.yelp.com/biz/julianas-brooklyn-3?adjust_creative=Jlc0a4YH3cxmvO6YXqsQtw&utm_campaign=yelp_api_v3&utm_medium=api_v3_business_search&utm_source=Jlc0a4YH3cxmvO6YXqsQtw',\n",
       "  'review_count': 2505,\n",
       "  'categories': [{'alias': 'pizza', 'title': 'Pizza'}],\n",
       "  'rating': 4.5,\n",
       "  'coordinates': {'latitude': 40.70274718768062,\n",
       "   'longitude': -73.99343490196397},\n",
       "  'transactions': ['delivery'],\n",
       "  'price': '$$',\n",
       "  'location': {'address1': '19 Old Fulton St',\n",
       "   'address2': '',\n",
       "   'address3': '',\n",
       "   'city': 'Brooklyn',\n",
       "   'zip_code': '11201',\n",
       "   'country': 'US',\n",
       "   'state': 'NY',\n",
       "   'display_address': ['19 Old Fulton St', 'Brooklyn, NY 11201']},\n",
       "  'phone': '+17185966700',\n",
       "  'display_phone': '(718) 596-6700',\n",
       "  'distance': 308.56984360837544}]"
      ]
     },
     "execution_count": 34,
     "metadata": {},
     "output_type": "execute_result"
    }
   ],
   "source": [
    "# Replace None with appropriate code\n",
    "\n",
    "# Retrieve the value from response_json\n",
    "businesses = response_json['businesses']\n",
    "\n",
    "# View the first 2 records\n",
    "businesses[:2]"
   ]
  },
  {
   "cell_type": "markdown",
   "metadata": {},
   "source": [
    "### Preparing Data\n",
    "\n",
    "Write a function `prepare_data` that takes in a list of dictionaries like `businesses` and returns a copy that has been prepared for analysis:\n",
    "\n",
    "1. The `coordinates` key-value pair has been converted into two separate key-value pairs, `latitude` and `longitude`\n",
    "2. All other key-value pairs except for `name`, `review_count`, `rating`, and `price` have been dropped\n",
    "3. All dictionaries missing one of the relevant keys or containing null values have been dropped\n",
    "\n",
    "In other words, the final keys for each dictionary should be `name`, `review_count`, `rating`, `price`, `latitude`, and `longitude`.\n",
    "\n",
    "Complete the function in the cell below:"
   ]
  },
  {
   "cell_type": "code",
   "execution_count": 38,
   "metadata": {},
   "outputs": [
    {
     "data": {
      "text/plain": [
       "[{'name': 'Prince Street Pizza',\n",
       "  'review_count': 4457,\n",
       "  'price': '$',\n",
       "  'rating': 4.5,\n",
       "  'latitude': 40.72308755605564,\n",
       "  'longitude': -73.99453001177575},\n",
       " {'name': \"Juliana's\",\n",
       "  'review_count': 2505,\n",
       "  'price': '$$',\n",
       "  'rating': 4.5,\n",
       "  'latitude': 40.70274718768062,\n",
       "  'longitude': -73.99343490196397},\n",
       " {'name': \"Lombardi's Pizza\",\n",
       "  'review_count': 6377,\n",
       "  'price': '$$',\n",
       "  'rating': 4.0,\n",
       "  'latitude': 40.7215934960083,\n",
       "  'longitude': -73.9955956044561},\n",
       " {'name': 'Rubirosa',\n",
       "  'review_count': 2747,\n",
       "  'price': '$$',\n",
       "  'rating': 4.5,\n",
       "  'latitude': 40.722766,\n",
       "  'longitude': -73.996233},\n",
       " {'name': \"Joe's Pizza\",\n",
       "  'review_count': 2857,\n",
       "  'price': '$',\n",
       "  'rating': 4.0,\n",
       "  'latitude': 40.73060076,\n",
       "  'longitude': -74.00215997}]"
      ]
     },
     "execution_count": 38,
     "metadata": {},
     "output_type": "execute_result"
    }
   ],
   "source": [
    "# Replace None with appropriate code\n",
    "\n",
    "def prepare_data(data_list):\n",
    "    \"\"\"\n",
    "    This function takes in a list of dictionaries and prepares it\n",
    "    for analysis\n",
    "    \"\"\"\n",
    "    \n",
    "    # Make a new list to hold results\n",
    "    results = []\n",
    "    \n",
    "    for business_data in data_list:\n",
    "    \n",
    "        # Make a new dictionary to hold prepared data for this business\n",
    "        prepared_data = {}\n",
    "        \n",
    "        # Extract name, review_count, rating, and price key-value pairs\n",
    "        # from business_data and add to prepared_data\n",
    "        # If a key is not present in business_data, add it to prepared_data\n",
    "        # with an associated value of None\n",
    "       \n",
    "        for k in ['name', 'review_count', 'price', 'rating']:\n",
    "            if k in business_data:\n",
    "                prepared_data[k] = business_data[k]\n",
    "            else:\n",
    "                prepared_data[k] = None\n",
    "        # Parse and add latitude and longitude columns\n",
    "        prepared_data['latitude'] = business_data['coordinates']['latitude']\n",
    "        prepared_data['longitude'] = business_data['coordinates']['longitude']\n",
    "        # Add to list if all values are present\n",
    "        if all(prepared_data.values()):\n",
    "            results.append(prepared_data)\n",
    "    \n",
    "    return results\n",
    "    \n",
    "# Test out function\n",
    "prepared_businesses = prepare_data(businesses)\n",
    "prepared_businesses[:5]"
   ]
  },
  {
   "cell_type": "markdown",
   "metadata": {},
   "source": [
    "Check that your function created the correct keys:"
   ]
  },
  {
   "cell_type": "code",
   "execution_count": 39,
   "metadata": {},
   "outputs": [],
   "source": [
    "# Run this cell without changes\n",
    "\n",
    "assert sorted(list(prepared_businesses[0].keys())) == ['latitude', 'longitude', 'name', 'price', 'rating', 'review_count']"
   ]
  },
  {
   "cell_type": "markdown",
   "metadata": {},
   "source": [
    "The following code will differ depending on your query, but we expect there to be 20 businesses in the original list, and potentially fewer in the prepared list (if any of them were missing data):"
   ]
  },
  {
   "cell_type": "code",
   "execution_count": 40,
   "metadata": {},
   "outputs": [
    {
     "name": "stdout",
     "output_type": "stream",
     "text": [
      "Original: 20\n",
      "Prepared: 20\n"
     ]
    }
   ],
   "source": [
    "# Run this cell without changes\n",
    "print(\"Original:\", len(businesses))\n",
    "print(\"Prepared:\", len(prepared_businesses))\n"
   ]
  },
  {
   "cell_type": "markdown",
   "metadata": {},
   "source": [
    "Great! We will reuse this function once we have retrieved the full dataset."
   ]
  },
  {
   "cell_type": "markdown",
   "metadata": {},
   "source": [
    "## 2. Add Pagination\n",
    "\n",
    "Now that you are able to extract information from one page of the response, let's figure out how to request as many pages as possible.\n",
    "\n",
    "### Determining the Total\n",
    "\n",
    "Depending on the number of total results for your query, you will either retrieve all of the results, or just the first 1000 (if there are more than 1000 total).\n",
    "\n",
    "We can find the total number of results using the `\"total\"` key:"
   ]
  },
  {
   "cell_type": "code",
   "execution_count": 18,
   "metadata": {},
   "outputs": [
    {
     "data": {
      "text/plain": [
       "12100"
      ]
     },
     "execution_count": 18,
     "metadata": {},
     "output_type": "execute_result"
    }
   ],
   "source": [
    "# Run this cell without changes\n",
    "response_json[\"total\"]"
   ]
  },
  {
   "cell_type": "markdown",
   "metadata": {},
   "source": [
    "(This is specific to the implementation of the Yelp API. Some APIs will just tell you that there are more pages, or will tell you the number of pages total, rather than the total number of results. If you're not sure, always check the documentation.)\n",
    "\n",
    "In the cell below, assign the variable `total` to either the value shown above (if it is less than 1000), or 1000."
   ]
  },
  {
   "cell_type": "code",
   "execution_count": 42,
   "metadata": {},
   "outputs": [],
   "source": [
    "# Replace None with appropriate code\n",
    "total = 1000"
   ]
  },
  {
   "cell_type": "markdown",
   "metadata": {},
   "source": [
    "### Calculating the Offsets\n",
    "\n",
    "The documentation states in the parameters section:\n",
    "\n",
    "> **Name**: `limit`, **Type:** int, **Description:** Optional. Number of business results to return. By default, it will return 20. Maximum is 50.\n",
    "\n",
    "> **Name**: `offset`, **Type:** int, **Description:** Optional. Offset the list of returned business results by this amount.\n",
    "\n",
    "So, to get the most results with the fewest API calls we want to set a limit of 50 every time. If, say, we wanted to get 210 total results, that would mean:\n",
    "\n",
    "1. Offset of `0` (first 50 records)\n",
    "2. Offset of `50` (second 50 records)\n",
    "3. Offset of `100` (third 50 records)\n",
    "4. Offset of `150` (fourth 50 records)\n",
    "5. Offset of `200` (final 10 records)\n",
    "\n",
    "In the cell below, create a function `get_offsets` that takes in a total and returns a list of offsets for that total. You can assume that there is a limit of 50 every time.\n",
    "\n",
    "*Hint: you can use `range` ([documentation here](https://docs.python.org/3.3/library/stdtypes.html?highlight=range#range)) to do this in one line of code. Just make the returned result is a list.*"
   ]
  },
  {
   "cell_type": "code",
   "execution_count": 28,
   "metadata": {},
   "outputs": [],
   "source": [
    "# Replace None with appropriate code\n",
    "def get_offsets(total):\n",
    "    \"\"\"\n",
    "    Get a list of offsets needed to get all pages\n",
    "    of data up until the total\n",
    "    \"\"\"\n",
    "    return list(range(0,total ,50))"
   ]
  },
  {
   "cell_type": "markdown",
   "metadata": {},
   "source": [
    "Check that your function works below:"
   ]
  },
  {
   "cell_type": "code",
   "execution_count": 33,
   "metadata": {},
   "outputs": [],
   "source": [
    "# Run this cell without changes\n",
    "\n",
    "assert get_offsets(200) == [0, 50, 100, 150]\n",
    "assert get_offsets(210) == [0, 50, 100, 150, 200]"
   ]
  },
  {
   "cell_type": "markdown",
   "metadata": {},
   "source": [
    "### Putting It All Together\n",
    "\n",
    "Recall that the following variable has already been declared for you:"
   ]
  },
  {
   "cell_type": "code",
   "execution_count": 30,
   "metadata": {},
   "outputs": [
    {
     "data": {
      "text/plain": [
       "{'term': 'pizza', 'location': 'New+York+NY'}"
      ]
     },
     "execution_count": 30,
     "metadata": {},
     "output_type": "execute_result"
    }
   ],
   "source": [
    "# Run this cell without changes\n",
    "url_params"
   ]
  },
  {
   "cell_type": "markdown",
   "metadata": {},
   "source": [
    "We'll go ahead and also specify that the limit should be 50 every time:"
   ]
  },
  {
   "cell_type": "code",
   "execution_count": 31,
   "metadata": {},
   "outputs": [],
   "source": [
    "# Run this cell without changes\n",
    "url_params[\"limit\"] = 50"
   ]
  },
  {
   "cell_type": "markdown",
   "metadata": {},
   "source": [
    "In order to modify the offset, you'll need to add it to `url_params` with the key `\"offset\"` and whatever value is needed.\n",
    "\n",
    "In the cell below, write code that:\n",
    "\n",
    "* Creates an empty list for the full prepared dataset\n",
    "* Loops over all of the offsets from `get_offsets` and makes an API call each time with the specified offset\n",
    "* Calls `prepare_data` to get a cleaned version of the result of each API call\n",
    "* Extends the full prepared dataset list with each query's prepared dataset"
   ]
  },
  {
   "cell_type": "code",
   "execution_count": 45,
   "metadata": {},
   "outputs": [
    {
     "data": {
      "text/plain": [
       "789"
      ]
     },
     "execution_count": 45,
     "metadata": {},
     "output_type": "execute_result"
    }
   ],
   "source": [
    "# Replace None with appropriate code\n",
    "\n",
    "# Create an empty list for the full prepared dataset\n",
    "full_dataset = []\n",
    "\n",
    "for offset in get_offsets(total):\n",
    "    # Add or update the \"offset\" key-value pair in url_params\n",
    "    url_params['offset'] = offset\n",
    "    \n",
    "    # Make the query and get the response\n",
    "    response = requests.get(url, headers=headers, params=url_params)\n",
    "    \n",
    "    # Get the response body in JSON format\n",
    "    response_json = response.json()\n",
    "    \n",
    "    # Get the list of businesses from the response_json\n",
    "    businesses = response_json['businesses']\n",
    "    \n",
    "    # Call the prepare_data function to get a list of processed data\n",
    "    prepared_businesses = prepare_data(businesses)\n",
    "    \n",
    "    # Extend full_dataset with this list (don't append, or you'll get\n",
    "    # a list of lists instead of a flat list)\n",
    "    full_dataset.extend(prepared_businesses)\n",
    "\n",
    "# Check the length of the full dataset. It will be up to `total`,\n",
    "# potentially less if there were missing values\n",
    "len(full_dataset)"
   ]
  },
  {
   "cell_type": "markdown",
   "metadata": {},
   "source": [
    "This code may take up to a few minutes to run.\n",
    "\n",
    "If you get an error trying to get the response body in JSON format, try adding `time.sleep(1)` right after the `requests.get` line, so your code will sleep for 1 second between each API call."
   ]
  },
  {
   "cell_type": "markdown",
   "metadata": {},
   "source": [
    "## 3. Perform Exploratory Analysis\n",
    "\n",
    "Take the businesses from the previous question and do an initial exploratory analysis. We have provided some plots for you to interpret:"
   ]
  },
  {
   "cell_type": "code",
   "execution_count": 46,
   "metadata": {},
   "outputs": [
    {
     "data": {
      "image/png": "[encoded data removed]",
      "text/plain": [
       "<Figure size 1152x360 with 3 Axes>"
      ]
     },
     "metadata": {
      "needs_background": "light"
     },
     "output_type": "display_data"
    }
   ],
   "source": [
    "# Run this cell without changes\n",
    "from collections import Counter\n",
    "import matplotlib.pyplot as plt\n",
    "%matplotlib inline\n",
    "\n",
    "fig, (ax1, ax2, ax3) = plt.subplots(ncols=3, figsize=(16, 5))\n",
    "\n",
    "# Plot distribution of number of reviews\n",
    "all_review_counts = [x[\"review_count\"] for x in full_dataset]\n",
    "ax1.hist(all_review_counts)\n",
    "ax1.set_title(\"Review Count Distribution\")\n",
    "ax1.set_xlabel(\"Number of Reviews\")\n",
    "ax1.set_ylabel(\"Number of Businesses\")\n",
    "\n",
    "# Plot rating distribution\n",
    "all_ratings = [x[\"rating\"] for x in full_dataset]\n",
    "rating_counter = Counter(all_ratings)\n",
    "rating_keys = sorted(rating_counter.keys())\n",
    "ax2.bar(rating_keys, [rating_counter[key] for key in rating_keys])\n",
    "ax2.set_title(\"Rating Distribution\")\n",
    "ax2.set_xlabel(\"Rating\")\n",
    "ax2.set_ylabel(\"Number of Businesses\")\n",
    "\n",
    "# Plot price distribution\n",
    "all_prices = [x[\"price\"].replace(\"$\", r\"\\$\") for x in full_dataset]\n",
    "price_counter = Counter(all_prices)\n",
    "price_keys = sorted(price_counter.keys())\n",
    "ax3.bar(price_keys, [price_counter[key] for key in price_keys])\n",
    "ax3.set_title(\"Price Distribution\")\n",
    "ax3.set_xlabel(\"Price Category\")\n",
    "ax3.set_ylabel(\"Number of Businesses\");"
   ]
  },
  {
   "cell_type": "markdown",
   "metadata": {},
   "source": [
    "Describe the distributions displayed above and interpret them in the context of your query. (Your answer may differ from the solution branch depending on your query.)"
   ]
  },
  {
   "cell_type": "code",
   "execution_count": null,
   "metadata": {},
   "outputs": [],
   "source": [
    "# Replace None with appropriate text\n",
    "\"\"\"\n",
    "In the first graph over 700 businesses have reviews from the range 0f 0 1600.,there are very few businesses with reviews over 8000.\n",
    "In the second graph close to 400 businesses have a rating of 4 ,but very few businesses with a rating of 2.5 and 5\n",
    "In the third graph 400 businesses are in the $$ price category with $ category having slightly over 300 businesses, the $$$$ category has the least number of businesses\n",
    "\"\"\""
   ]
  },
  {
   "cell_type": "markdown",
   "metadata": {},
   "source": [
    "In the cell below, we also plot the rating distributions by price. In this setup, a price of one dollar sign is \"lower price\" and everything else is \"higher price\"."
   ]
  },
  {
   "cell_type": "code",
   "execution_count": 47,
   "metadata": {},
   "outputs": [
    {
     "data": {
      "image/png": "[encoded data removed]",
      "text/plain": [
       "<Figure size 432x288 with 1 Axes>"
      ]
     },
     "metadata": {
      "needs_background": "light"
     },
     "output_type": "display_data"
    }
   ],
   "source": [
    "# Run this cell without changes\n",
    "\n",
    "higher_price = []\n",
    "lower_price = []\n",
    "for row in full_dataset:\n",
    "    if row[\"price\"] == \"$\":\n",
    "        lower_price.append(row[\"rating\"])\n",
    "    else:\n",
    "        higher_price.append(row[\"rating\"])\n",
    "        \n",
    "fig, ax = plt.subplots()\n",
    "\n",
    "ax.hist([higher_price, lower_price], label=[\"higher price\", \"lower price\"], density=True)\n",
    "\n",
    "ax.legend();"
   ]
  },
  {
   "cell_type": "markdown",
   "metadata": {},
   "source": [
    "Is a higher price associated with a higher rating? (No need for any additional math/statistics, just interpret what you see in the plot.)"
   ]
  },
  {
   "cell_type": "code",
   "execution_count": null,
   "metadata": {},
   "outputs": [],
   "source": [
    "# Replace None with appropriate text\n",
    "\"\"\"\n",
    "In the graph above most businesses with a rating under 4 have low prices compared to high prices while those with a rating over 4 have more high prices compared to low\n",
    "\"\"\""
   ]
  },
  {
   "cell_type": "markdown",
   "metadata": {},
   "source": [
    "Finally, let's look at ratings vs. review counts:"
   ]
  },
  {
   "cell_type": "code",
   "execution_count": 48,
   "metadata": {},
   "outputs": [
    {
     "data": {
      "image/png": "[encoded data removed]",
      "text/plain": [
       "<Figure size 1152x360 with 1 Axes>"
      ]
     },
     "metadata": {
      "needs_background": "light"
     },
     "output_type": "display_data"
    }
   ],
   "source": [
    "# Run this cell without changes\n",
    "fig, ax = plt.subplots(figsize=(16,5))\n",
    "\n",
    "ax.scatter(all_review_counts, all_ratings, alpha=0.2)\n",
    "ax.set_xlabel(\"Number of Reviews\")\n",
    "ax.set_ylabel(\"Rating\")\n",
    "# \"zoom in\" to a subset of review counts\n",
    "ax.set_xlim(left=0, right=1000);"
   ]
  },
  {
   "cell_type": "markdown",
   "metadata": {},
   "source": [
    "Is a higher number of reviews associated with a higher rating?"
   ]
  },
  {
   "cell_type": "code",
   "execution_count": null,
   "metadata": {},
   "outputs": [],
   "source": [
    "# Replace None with appropriate text\n",
    "\"\"\"\n",
    "None\n",
    "\"\"\""
   ]
  },
  {
   "cell_type": "markdown",
   "metadata": {},
   "source": [
    "## 4. Create a Folium Map\n",
    "\n",
    "Make a map using Folium of the businesses you retrieved. Be sure to also add popups to the markers giving some basic information such as name, rating and price.\n",
    "\n",
    "You can center the map around the latitude and longitude of the first item in `full_dataset`."
   ]
  },
  {
   "cell_type": "code",
   "execution_count": 51,
   "metadata": {},
   "outputs": [
    {
     "ename": "ValueError",
     "evalue": "Location should consist of two numerical values, but [40.72308755605564, 40.70274718768062, 40.7215934960083, 40.70493, 40.681840746711224, 40.722766, 40.71162, 40.7547, 40.73060076, 40.73158, 40.7320627016512, 40.7026459, 40.625093, 40.729546, 40.73331, 40.733798036104304, 40.71534, 40.75225, 40.6897, 40.7502059936523, 40.723625, 40.717953, 40.66163, 40.783841, 40.728199, 40.7321124557704, 40.72836, 40.6950309, 40.7168952, 40.736218, 40.7101297729083, 40.69116658201196, 40.594715, 40.688285, 40.72813, 40.6974427, 40.634741, 40.72748, 40.707492, 40.7432, 40.76388, 40.70244, 40.73398, 40.7826, 40.680702, 40.7392597584612, 40.7273563342024, 40.729375015649076, 40.71505, 40.76458, 40.6603430973463, 40.70276, 40.710372, 40.71958, 40.7608512, 40.743553, 40.73512, 40.6985, 40.6837407, 40.7043362, 40.797157, 40.7334346, 40.75334, 40.6818695, 40.722121, 40.692930215177675, 40.73829, 40.70342863348067, 40.7628961, 40.7208883, 40.7189, 40.759494511551836, 40.77991, 40.7445882, 40.668221, 40.68351, 40.7177490485075, 40.6904563903809, 40.71338, 40.7398415, 40.718554, 40.67206, 40.713245675315, 40.72598, 40.725612, 40.7372, 40.703137, 40.73069, 40.76492, 40.7125608, 40.7139499, 40.7084890714263, 40.8055499, 40.729798, 40.6349400235262, 40.7033063330116, 40.7215270996094, 40.80084, 40.69408, 40.72892, 40.708152, 40.69415, 40.762711, 40.62236, 40.711942, 40.6875154792236, 40.754393, 40.712168, 40.72474, 40.7109154314181, 40.743656, 40.720131370119134, 40.7204716, 40.71822, 40.7629335072372, 40.719742, 40.70499, 40.7081041823001, 40.75674, 40.578913225666966, 40.72693, 31.086427, 40.7139015197754, 40.72981, 40.750244140625, 40.74764, 40.70517, 40.755403, 40.75214, 40.72697, 40.7073067, 40.727303, 40.7349243164062, 40.6933151509676, 40.7261288, 40.674397, 40.72697, 40.80284, 40.691219329834, 40.744435447210506, 40.75240549384363, 40.707999, 40.714987, 40.74406421842744, 40.69442, 40.73778, 40.7412157, 40.838288, 40.783433, 40.7557792663574, 40.7196979, 40.7190165, 40.7056571, 40.756482, 40.720799, 40.7235518, 40.6465968960541, 40.6810107667113, 40.7517417637889, 40.7057647, 40.73033, 40.7509380299598, 40.6835403, 40.75202, 40.7093947, 40.74506, 40.728, 40.77275912931571, 40.7746799, 40.721836749997586, 40.74516465585421, 40.7156, 40.669342, 40.750427, 40.78666, 40.6746224, 40.7262073, 40.712121, 40.6905570310882, 40.73041, 40.73483, 40.723658440431656, 40.779999, 40.71087, 40.70907785865903, 40.699286, 40.702950557308085, 40.74337, 40.7398164, 40.73927, 40.72043, 40.7036301, 40.7968348033007, 40.729076, 40.74776270790539, 40.7090018174257, 40.73599262334309, 40.754827, 40.75749848725768, 40.7644044527436, 40.727966, 40.7623377, 40.7078768, 40.6136093139648, 40.690706, 40.7297584, 40.74367, 40.79392, 40.7294, 40.76032, 40.7179537220535, 40.73596, 40.72662, 40.693154, 40.7143, 40.72713, 40.71832, 40.7223854064941, 40.76335, 40.7454863, 40.725353, 40.670664, 40.72123, 40.75678, 40.6882597, 40.7427, 40.7249388, 40.7591676767848, 40.728949, 40.73293764919451, 40.73308, 40.7189865112305, 40.77489721657789, 40.7198601300801, 40.7204894, 40.73612, 40.73592407559118, 40.6947, 40.69165, 40.6302266718896, 40.68598633824293, 40.70858, 40.7407551035259, 40.712192, 40.683944, 40.75157, 40.7804, 40.72365, 40.80751, 40.76441, 40.7635099, 40.74600424769782, 40.7104799, 40.73357, 40.74494463643489, 40.70787, 40.71416668884163, 40.683715, 40.79316, 40.72511, 40.7219179851303, 40.74047547591752, 40.722647, 40.715621, 40.71873, 40.75522, 40.73372, 40.58615, 40.7507476806641, 40.7918751922647, 40.7638169909039, 40.76851, 40.7569046125342, 40.751049, 40.7603635173753, 40.9647045, 40.71395, 40.7003933525757, 40.70359, 40.7457666039821, 40.7983115, 40.759761, 40.754057, 40.677328, 40.669299, 40.73687, 40.7722, 40.74067, 40.75641, 40.6454519, 40.725290886426, 40.7323545516408, 40.6854737, 40.67597, 40.752672726751186, 40.7045845329735, 40.72866, 40.75823, 40.69419, 40.73937, 40.6788288, 40.7442813, 40.768589, 40.7545, 40.6199507795829, 40.789283, 40.7604321973079, 40.7662658691406, 40.74200824886595, 40.767116, 40.70325596349647, 40.68903, 40.8044212, 40.75414, 40.6743319055498, 40.8095922, 40.73012, 40.74358, 40.7400486, 40.675178, 40.78554, 40.742664, 40.709716, 40.727309, 40.7438380472824, 40.71797254115706, 40.77564, 40.7298659578295, 40.73311, 40.7708511352539, 40.70322, 40.74094, 40.75693, 40.74381, 40.7142052394856, 40.732283, 40.8280452239988, 40.718468787527, 40.7264595, 40.78272735790179, 40.74727, 40.7566495, 40.80894, 40.73285, 40.6913995614207, 40.85881, 40.71967, 40.706518, 40.7560312, 40.7039355145338, 40.693225, 40.654521, 40.723315, 40.7378601855952, 40.7662427, 40.72602, 40.7347831726074, 40.76122, 40.70933, 40.736942, 40.76122, 40.82139, 40.68357, 40.73039, 40.7492468, 40.70574, 40.71861, 40.74706, 40.7427486, 40.72161, 40.70525, 40.7050708681994, 40.7619979368852, 40.75744, 40.713375, 40.710117, 40.7304, 40.724653, 40.6914284, 40.81228, 40.7484899, 40.68984063986179, 40.7904646826957, 40.75576, 40.70638449968762, 40.764537, 40.6808, 40.67291, 40.68273, 40.7664835, 40.7158, 40.73036, 40.76564, 40.76177, 40.715948062187, 40.7212414, 40.764259, 40.7023136, 40.6901481293837, 40.68562, 40.6775499, 40.8301996389829, 40.7468940064083, 40.74131, 40.76920133403351, 40.7785204, 40.75718, 40.7102999, 40.76652, 40.7153479526233, 40.7935007, 40.8028109023738, 40.7267, 40.7443525488053, 40.685920715332, 40.764380718592, 40.8629818681867, 40.71959, 40.704239, 40.72745, 40.733114, 40.7137, 40.7385362974077, 40.6627403949909, 40.76545990643915, 40.76366, 40.7855672, 40.80174, 40.8029069, 40.7287, 40.791077, 40.76945, 40.71963, 40.713993, 40.6902542114258, 40.752435, 40.750099, 40.6596, 40.7435428136099, 40.73474, 40.7262256596862, 40.68198, 40.72175, 40.703866713051106, 40.756995, 40.754455, 40.7276, 40.67512, 40.724308, 40.619812, 40.7661790467228, 40.7235059, 40.69276, 40.7312720665479, 40.8512380090093, 40.710558, 40.711191, 40.75408, 40.73863, 40.73211, 40.7025733903159, 40.7238165289164, 40.683438, 40.776219, 40.7987564, 40.67868, 40.7290935, 40.69295978543185, 40.710402, 40.68071, 40.8875232, 40.66585, 40.7447371960713, 40.7753189653158, 40.7567, 40.7395804, 40.715061, 40.682103, 40.69817, 40.821427, 40.74442, 40.669419, 40.75011, 40.686637, 40.739633, 40.72879, 40.59074487294477, 40.73486, 40.92033366683442, 40.8048834508642, 40.75433, 40.72978, 40.71574, 40.8551130123675, 40.76689, 40.72066, 40.7488743961, 40.807312, 40.74520457937066, 40.72542, 40.7039403, 40.741764, 40.730685, 40.744509, 40.72506, 40.6742098, 40.73467, 40.69224, 40.762397, 40.64615, 40.72138, 40.7237, 40.80124, 40.70447, 40.749270880468, 40.7786344992522, 40.68669, 40.73881, 40.778337, 40.69006, 40.618881, 40.7200699, 40.72778, 40.71322, 40.741104, 40.771447, 40.71981, 40.8442869, 40.650639, 40.70707, 40.685007, 40.68418116575449, 40.79508, 40.72379, 40.6728509253454, 40.71666591260819, 40.79889, 40.640118, 40.664924, 40.680043, 40.617634, 40.7458575124991, 40.7049434740873, 40.72943352874865, 40.64058, 40.73888, 40.724179701505, 40.7767632368091, 40.646676, 40.6294899, 40.754825, 40.77843, 40.78329, 40.854131, 40.770036, 40.7182749, 40.7658680230835, 40.72229, 40.6942, 40.7102419339859, 40.67741, 40.730006, 40.733446335913925, 40.7153762863468, 40.81153, 40.63, 40.72371, 40.7637252807617, 40.67959, 40.702635, 40.713912316525, 40.71707, 40.74173, 40.72907, 40.74145, 40.75756463099685, 40.666091, 40.63468, 40.726783, 40.62624, 40.7151444, 40.615321, 40.7435117, 40.70214, 40.76936, 40.6375122070312, 40.7684, 40.66023, 40.71757, 40.62984, 40.7200188460948, 40.7547371227125, 40.6962131, 40.69983, 40.7149022072554, 40.7547371227125, 40.6962131, 40.69983, 40.7149022072554, 40.7429257, 40.713317, 40.7169776965988, 40.71695, 40.7428322, 40.689386, 40.715049, 40.7309471231405, 40.70925, 40.699206213709665, 40.6893845, 40.723543, 40.72609, 40.7624395, 40.76441, 40.70411, 40.72103, 40.7584403193969, 40.7402335928167, 40.7473279523583, 40.7716201269986, 40.76342, 40.72815, 40.722237, 40.774562, 40.75502, 40.73327, 40.61692, 40.75656, 40.810854, 40.772158, 40.83062, 40.7675056, 40.663816, 40.7221049544947, 40.675332643247, 40.708145443285, 40.754296, 40.74412, 40.63465, 40.7196429, 40.849121, 40.766983, 40.8337123, 40.7778264823318, 40.76281, 40.7378974, 40.79789, 40.6730907423467, 40.726191, 40.733463, 40.709782, 40.7483655239542, 40.75312, 40.7334702326849, 40.8199807, 40.655174, 40.8048058390532, 40.70114, 40.738388, 40.5840481565596, 40.786295, 40.707407, 40.72816, 40.73059, 40.74766471982, 40.779961, 40.724818, 40.727064, 40.7211076542265, 40.775478, 40.743578, 40.68309, 40.6819599, 40.7632745057344, 40.6358753412935, 40.7181606872639, 40.7500752, 40.72186, 40.732218, 40.6601105, 40.74505372839559, 40.7389111700125, 40.7707702252517, 40.754745, 40.7472138000271, 40.75611, 40.722114, 40.742106, 40.820069, 40.65863, 40.62692170776024, 40.67537, 40.77134, 40.7045665, 40.7138257110445, 40.71734, 40.693739699999334, 40.72097, 40.7058105, 40.759876, 40.7944610511506, 40.678273, 40.748589, 40.74026, 40.72303, 40.69148, 40.62207, 40.7229424, 40.66642, 40.758194, 40.7142239034582, 40.741315, 40.76006, 40.76553, 40.7289, 40.4038495, 40.8481627306549, 40.71637, 40.7223153441439, 40.684805, 40.82626, 40.715406, 40.6112945152771, 40.7671265, 40.64224, 40.75049486336486, 40.73113, 40.7448731218168, 40.6712095108944, 40.6199963, 40.82846, 40.7654289685161, 40.6933499872684, 40.707555318913, 40.78935, 40.74094, 40.7458208160377, 40.72572, 40.78224, 40.6489921895261, 40.71310654723133, 40.917609, 40.8756015, 40.7762350782493, 40.7762350782493, 40.842018, 40.726213, 40.736978968163, 40.77794, 40.7189526, 40.6746035, 40.77648209257472, 40.76102, 40.67279, 40.6924462067728, 40.742344, 40.769171, 40.7903349463747, 40.76686, 40.706858, 40.70656, 40.7439080906573, 40.774698, 40.745651, 40.8049797781916, 40.689671, 40.62494, 40.765664798585, 40.760868632784, 40.72345, 40.7383, 40.754782, 40.596872, 40.86922, 40.7839431762695, 40.725925, 40.7471944, 40.7106126934043, 40.8899, 40.72494, 40.7602042287575, 40.708374, 40.72290786539601, 40.76354770917096, 40.78666, 40.8545949, 40.6835199838354, 40.9126977401153, 40.77528] of type <class 'list'> is not convertible to float.",
     "output_type": "error",
     "traceback": [
      "\u001b[1;31m---------------------------------------------------------------------------\u001b[0m",
      "\u001b[1;31mTypeError\u001b[0m                                 Traceback (most recent call last)",
      "\u001b[1;32m~\\anaconda3\\envs\\learn-env\\lib\\site-packages\\folium\\utilities.py\u001b[0m in \u001b[0;36mvalidate_location\u001b[1;34m(location)\u001b[0m\n\u001b[0;32m     58\u001b[0m         \u001b[1;32mtry\u001b[0m\u001b[1;33m:\u001b[0m\u001b[1;33m\u001b[0m\u001b[1;33m\u001b[0m\u001b[0m\n\u001b[1;32m---> 59\u001b[1;33m             \u001b[0mfloat\u001b[0m\u001b[1;33m(\u001b[0m\u001b[0mcoord\u001b[0m\u001b[1;33m)\u001b[0m\u001b[1;33m\u001b[0m\u001b[1;33m\u001b[0m\u001b[0m\n\u001b[0m\u001b[0;32m     60\u001b[0m         \u001b[1;32mexcept\u001b[0m \u001b[1;33m(\u001b[0m\u001b[0mTypeError\u001b[0m\u001b[1;33m,\u001b[0m \u001b[0mValueError\u001b[0m\u001b[1;33m)\u001b[0m\u001b[1;33m:\u001b[0m\u001b[1;33m\u001b[0m\u001b[1;33m\u001b[0m\u001b[0m\n",
      "\u001b[1;31mTypeError\u001b[0m: float() argument must be a string or a number, not 'list'",
      "\nDuring handling of the above exception, another exception occurred:\n",
      "\u001b[1;31mValueError\u001b[0m                                Traceback (most recent call last)",
      "\u001b[1;32m<ipython-input-51-8c0cf795f717>\u001b[0m in \u001b[0;36m<module>\u001b[1;34m\u001b[0m\n\u001b[0;32m      9\u001b[0m \u001b[1;33m\u001b[0m\u001b[0m\n\u001b[0;32m     10\u001b[0m \u001b[1;31m# Initialize map with center lat and long\u001b[0m\u001b[1;33m\u001b[0m\u001b[1;33m\u001b[0m\u001b[1;33m\u001b[0m\u001b[0m\n\u001b[1;32m---> 11\u001b[1;33m \u001b[0myelp_map\u001b[0m \u001b[1;33m=\u001b[0m \u001b[0mfolium\u001b[0m\u001b[1;33m.\u001b[0m\u001b[0mMap\u001b[0m\u001b[1;33m(\u001b[0m\u001b[1;33m[\u001b[0m\u001b[0mcenter_lat\u001b[0m\u001b[1;33m,\u001b[0m \u001b[0mcenter_long\u001b[0m\u001b[1;33m]\u001b[0m\u001b[1;33m)\u001b[0m\u001b[1;33m\u001b[0m\u001b[1;33m\u001b[0m\u001b[0m\n\u001b[0m\u001b[0;32m     12\u001b[0m \u001b[1;33m\u001b[0m\u001b[0m\n\u001b[0;32m     13\u001b[0m \u001b[1;31m# Adjust this limit to see more or fewer businesses\u001b[0m\u001b[1;33m\u001b[0m\u001b[1;33m\u001b[0m\u001b[1;33m\u001b[0m\u001b[0m\n",
      "\u001b[1;32m~\\anaconda3\\envs\\learn-env\\lib\\site-packages\\folium\\folium.py\u001b[0m in \u001b[0;36m__init__\u001b[1;34m(self, location, width, height, left, top, position, tiles, attr, min_zoom, max_zoom, zoom_start, min_lat, max_lat, min_lon, max_lon, max_bounds, crs, control_scale, prefer_canvas, no_touch, disable_3d, png_enabled, zoom_control, **kwargs)\u001b[0m\n\u001b[0;32m    247\u001b[0m             \u001b[0mzoom_start\u001b[0m \u001b[1;33m=\u001b[0m \u001b[1;36m1\u001b[0m\u001b[1;33m\u001b[0m\u001b[1;33m\u001b[0m\u001b[0m\n\u001b[0;32m    248\u001b[0m         \u001b[1;32melse\u001b[0m\u001b[1;33m:\u001b[0m\u001b[1;33m\u001b[0m\u001b[1;33m\u001b[0m\u001b[0m\n\u001b[1;32m--> 249\u001b[1;33m             \u001b[0mself\u001b[0m\u001b[1;33m.\u001b[0m\u001b[0mlocation\u001b[0m \u001b[1;33m=\u001b[0m \u001b[0mvalidate_location\u001b[0m\u001b[1;33m(\u001b[0m\u001b[0mlocation\u001b[0m\u001b[1;33m)\u001b[0m\u001b[1;33m\u001b[0m\u001b[1;33m\u001b[0m\u001b[0m\n\u001b[0m\u001b[0;32m    250\u001b[0m \u001b[1;33m\u001b[0m\u001b[0m\n\u001b[0;32m    251\u001b[0m         \u001b[0mFigure\u001b[0m\u001b[1;33m(\u001b[0m\u001b[1;33m)\u001b[0m\u001b[1;33m.\u001b[0m\u001b[0madd_child\u001b[0m\u001b[1;33m(\u001b[0m\u001b[0mself\u001b[0m\u001b[1;33m)\u001b[0m\u001b[1;33m\u001b[0m\u001b[1;33m\u001b[0m\u001b[0m\n",
      "\u001b[1;32m~\\anaconda3\\envs\\learn-env\\lib\\site-packages\\folium\\utilities.py\u001b[0m in \u001b[0;36mvalidate_location\u001b[1;34m(location)\u001b[0m\n\u001b[0;32m     59\u001b[0m             \u001b[0mfloat\u001b[0m\u001b[1;33m(\u001b[0m\u001b[0mcoord\u001b[0m\u001b[1;33m)\u001b[0m\u001b[1;33m\u001b[0m\u001b[1;33m\u001b[0m\u001b[0m\n\u001b[0;32m     60\u001b[0m         \u001b[1;32mexcept\u001b[0m \u001b[1;33m(\u001b[0m\u001b[0mTypeError\u001b[0m\u001b[1;33m,\u001b[0m \u001b[0mValueError\u001b[0m\u001b[1;33m)\u001b[0m\u001b[1;33m:\u001b[0m\u001b[1;33m\u001b[0m\u001b[1;33m\u001b[0m\u001b[0m\n\u001b[1;32m---> 61\u001b[1;33m             raise ValueError('Location should consist of two numerical values, '\n\u001b[0m\u001b[0;32m     62\u001b[0m                              \u001b[1;34m'but {!r} of type {} is not convertible to float.'\u001b[0m\u001b[1;33m\u001b[0m\u001b[1;33m\u001b[0m\u001b[0m\n\u001b[0;32m     63\u001b[0m                              .format(coord, type(coord)))\n",
      "\u001b[1;31mValueError\u001b[0m: Location should consist of two numerical values, but [40.72308755605564, 40.70274718768062, 40.7215934960083, 40.70493, 40.681840746711224, 40.722766, 40.71162, 40.7547, 40.73060076, 40.73158, 40.7320627016512, 40.7026459, 40.625093, 40.729546, 40.73331, 40.733798036104304, 40.71534, 40.75225, 40.6897, 40.7502059936523, 40.723625, 40.717953, 40.66163, 40.783841, 40.728199, 40.7321124557704, 40.72836, 40.6950309, 40.7168952, 40.736218, 40.7101297729083, 40.69116658201196, 40.594715, 40.688285, 40.72813, 40.6974427, 40.634741, 40.72748, 40.707492, 40.7432, 40.76388, 40.70244, 40.73398, 40.7826, 40.680702, 40.7392597584612, 40.7273563342024, 40.729375015649076, 40.71505, 40.76458, 40.6603430973463, 40.70276, 40.710372, 40.71958, 40.7608512, 40.743553, 40.73512, 40.6985, 40.6837407, 40.7043362, 40.797157, 40.7334346, 40.75334, 40.6818695, 40.722121, 40.692930215177675, 40.73829, 40.70342863348067, 40.7628961, 40.7208883, 40.7189, 40.759494511551836, 40.77991, 40.7445882, 40.668221, 40.68351, 40.7177490485075, 40.6904563903809, 40.71338, 40.7398415, 40.718554, 40.67206, 40.713245675315, 40.72598, 40.725612, 40.7372, 40.703137, 40.73069, 40.76492, 40.7125608, 40.7139499, 40.7084890714263, 40.8055499, 40.729798, 40.6349400235262, 40.7033063330116, 40.7215270996094, 40.80084, 40.69408, 40.72892, 40.708152, 40.69415, 40.762711, 40.62236, 40.711942, 40.6875154792236, 40.754393, 40.712168, 40.72474, 40.7109154314181, 40.743656, 40.720131370119134, 40.7204716, 40.71822, 40.7629335072372, 40.719742, 40.70499, 40.7081041823001, 40.75674, 40.578913225666966, 40.72693, 31.086427, 40.7139015197754, 40.72981, 40.750244140625, 40.74764, 40.70517, 40.755403, 40.75214, 40.72697, 40.7073067, 40.727303, 40.7349243164062, 40.6933151509676, 40.7261288, 40.674397, 40.72697, 40.80284, 40.691219329834, 40.744435447210506, 40.75240549384363, 40.707999, 40.714987, 40.74406421842744, 40.69442, 40.73778, 40.7412157, 40.838288, 40.783433, 40.7557792663574, 40.7196979, 40.7190165, 40.7056571, 40.756482, 40.720799, 40.7235518, 40.6465968960541, 40.6810107667113, 40.7517417637889, 40.7057647, 40.73033, 40.7509380299598, 40.6835403, 40.75202, 40.7093947, 40.74506, 40.728, 40.77275912931571, 40.7746799, 40.721836749997586, 40.74516465585421, 40.7156, 40.669342, 40.750427, 40.78666, 40.6746224, 40.7262073, 40.712121, 40.6905570310882, 40.73041, 40.73483, 40.723658440431656, 40.779999, 40.71087, 40.70907785865903, 40.699286, 40.702950557308085, 40.74337, 40.7398164, 40.73927, 40.72043, 40.7036301, 40.7968348033007, 40.729076, 40.74776270790539, 40.7090018174257, 40.73599262334309, 40.754827, 40.75749848725768, 40.7644044527436, 40.727966, 40.7623377, 40.7078768, 40.6136093139648, 40.690706, 40.7297584, 40.74367, 40.79392, 40.7294, 40.76032, 40.7179537220535, 40.73596, 40.72662, 40.693154, 40.7143, 40.72713, 40.71832, 40.7223854064941, 40.76335, 40.7454863, 40.725353, 40.670664, 40.72123, 40.75678, 40.6882597, 40.7427, 40.7249388, 40.7591676767848, 40.728949, 40.73293764919451, 40.73308, 40.7189865112305, 40.77489721657789, 40.7198601300801, 40.7204894, 40.73612, 40.73592407559118, 40.6947, 40.69165, 40.6302266718896, 40.68598633824293, 40.70858, 40.7407551035259, 40.712192, 40.683944, 40.75157, 40.7804, 40.72365, 40.80751, 40.76441, 40.7635099, 40.74600424769782, 40.7104799, 40.73357, 40.74494463643489, 40.70787, 40.71416668884163, 40.683715, 40.79316, 40.72511, 40.7219179851303, 40.74047547591752, 40.722647, 40.715621, 40.71873, 40.75522, 40.73372, 40.58615, 40.7507476806641, 40.7918751922647, 40.7638169909039, 40.76851, 40.7569046125342, 40.751049, 40.7603635173753, 40.9647045, 40.71395, 40.7003933525757, 40.70359, 40.7457666039821, 40.7983115, 40.759761, 40.754057, 40.677328, 40.669299, 40.73687, 40.7722, 40.74067, 40.75641, 40.6454519, 40.725290886426, 40.7323545516408, 40.6854737, 40.67597, 40.752672726751186, 40.7045845329735, 40.72866, 40.75823, 40.69419, 40.73937, 40.6788288, 40.7442813, 40.768589, 40.7545, 40.6199507795829, 40.789283, 40.7604321973079, 40.7662658691406, 40.74200824886595, 40.767116, 40.70325596349647, 40.68903, 40.8044212, 40.75414, 40.6743319055498, 40.8095922, 40.73012, 40.74358, 40.7400486, 40.675178, 40.78554, 40.742664, 40.709716, 40.727309, 40.7438380472824, 40.71797254115706, 40.77564, 40.7298659578295, 40.73311, 40.7708511352539, 40.70322, 40.74094, 40.75693, 40.74381, 40.7142052394856, 40.732283, 40.8280452239988, 40.718468787527, 40.7264595, 40.78272735790179, 40.74727, 40.7566495, 40.80894, 40.73285, 40.6913995614207, 40.85881, 40.71967, 40.706518, 40.7560312, 40.7039355145338, 40.693225, 40.654521, 40.723315, 40.7378601855952, 40.7662427, 40.72602, 40.7347831726074, 40.76122, 40.70933, 40.736942, 40.76122, 40.82139, 40.68357, 40.73039, 40.7492468, 40.70574, 40.71861, 40.74706, 40.7427486, 40.72161, 40.70525, 40.7050708681994, 40.7619979368852, 40.75744, 40.713375, 40.710117, 40.7304, 40.724653, 40.6914284, 40.81228, 40.7484899, 40.68984063986179, 40.7904646826957, 40.75576, 40.70638449968762, 40.764537, 40.6808, 40.67291, 40.68273, 40.7664835, 40.7158, 40.73036, 40.76564, 40.76177, 40.715948062187, 40.7212414, 40.764259, 40.7023136, 40.6901481293837, 40.68562, 40.6775499, 40.8301996389829, 40.7468940064083, 40.74131, 40.76920133403351, 40.7785204, 40.75718, 40.7102999, 40.76652, 40.7153479526233, 40.7935007, 40.8028109023738, 40.7267, 40.7443525488053, 40.685920715332, 40.764380718592, 40.8629818681867, 40.71959, 40.704239, 40.72745, 40.733114, 40.7137, 40.7385362974077, 40.6627403949909, 40.76545990643915, 40.76366, 40.7855672, 40.80174, 40.8029069, 40.7287, 40.791077, 40.76945, 40.71963, 40.713993, 40.6902542114258, 40.752435, 40.750099, 40.6596, 40.7435428136099, 40.73474, 40.7262256596862, 40.68198, 40.72175, 40.703866713051106, 40.756995, 40.754455, 40.7276, 40.67512, 40.724308, 40.619812, 40.7661790467228, 40.7235059, 40.69276, 40.7312720665479, 40.8512380090093, 40.710558, 40.711191, 40.75408, 40.73863, 40.73211, 40.7025733903159, 40.7238165289164, 40.683438, 40.776219, 40.7987564, 40.67868, 40.7290935, 40.69295978543185, 40.710402, 40.68071, 40.8875232, 40.66585, 40.7447371960713, 40.7753189653158, 40.7567, 40.7395804, 40.715061, 40.682103, 40.69817, 40.821427, 40.74442, 40.669419, 40.75011, 40.686637, 40.739633, 40.72879, 40.59074487294477, 40.73486, 40.92033366683442, 40.8048834508642, 40.75433, 40.72978, 40.71574, 40.8551130123675, 40.76689, 40.72066, 40.7488743961, 40.807312, 40.74520457937066, 40.72542, 40.7039403, 40.741764, 40.730685, 40.744509, 40.72506, 40.6742098, 40.73467, 40.69224, 40.762397, 40.64615, 40.72138, 40.7237, 40.80124, 40.70447, 40.749270880468, 40.7786344992522, 40.68669, 40.73881, 40.778337, 40.69006, 40.618881, 40.7200699, 40.72778, 40.71322, 40.741104, 40.771447, 40.71981, 40.8442869, 40.650639, 40.70707, 40.685007, 40.68418116575449, 40.79508, 40.72379, 40.6728509253454, 40.71666591260819, 40.79889, 40.640118, 40.664924, 40.680043, 40.617634, 40.7458575124991, 40.7049434740873, 40.72943352874865, 40.64058, 40.73888, 40.724179701505, 40.7767632368091, 40.646676, 40.6294899, 40.754825, 40.77843, 40.78329, 40.854131, 40.770036, 40.7182749, 40.7658680230835, 40.72229, 40.6942, 40.7102419339859, 40.67741, 40.730006, 40.733446335913925, 40.7153762863468, 40.81153, 40.63, 40.72371, 40.7637252807617, 40.67959, 40.702635, 40.713912316525, 40.71707, 40.74173, 40.72907, 40.74145, 40.75756463099685, 40.666091, 40.63468, 40.726783, 40.62624, 40.7151444, 40.615321, 40.7435117, 40.70214, 40.76936, 40.6375122070312, 40.7684, 40.66023, 40.71757, 40.62984, 40.7200188460948, 40.7547371227125, 40.6962131, 40.69983, 40.7149022072554, 40.7547371227125, 40.6962131, 40.69983, 40.7149022072554, 40.7429257, 40.713317, 40.7169776965988, 40.71695, 40.7428322, 40.689386, 40.715049, 40.7309471231405, 40.70925, 40.699206213709665, 40.6893845, 40.723543, 40.72609, 40.7624395, 40.76441, 40.70411, 40.72103, 40.7584403193969, 40.7402335928167, 40.7473279523583, 40.7716201269986, 40.76342, 40.72815, 40.722237, 40.774562, 40.75502, 40.73327, 40.61692, 40.75656, 40.810854, 40.772158, 40.83062, 40.7675056, 40.663816, 40.7221049544947, 40.675332643247, 40.708145443285, 40.754296, 40.74412, 40.63465, 40.7196429, 40.849121, 40.766983, 40.8337123, 40.7778264823318, 40.76281, 40.7378974, 40.79789, 40.6730907423467, 40.726191, 40.733463, 40.709782, 40.7483655239542, 40.75312, 40.7334702326849, 40.8199807, 40.655174, 40.8048058390532, 40.70114, 40.738388, 40.5840481565596, 40.786295, 40.707407, 40.72816, 40.73059, 40.74766471982, 40.779961, 40.724818, 40.727064, 40.7211076542265, 40.775478, 40.743578, 40.68309, 40.6819599, 40.7632745057344, 40.6358753412935, 40.7181606872639, 40.7500752, 40.72186, 40.732218, 40.6601105, 40.74505372839559, 40.7389111700125, 40.7707702252517, 40.754745, 40.7472138000271, 40.75611, 40.722114, 40.742106, 40.820069, 40.65863, 40.62692170776024, 40.67537, 40.77134, 40.7045665, 40.7138257110445, 40.71734, 40.693739699999334, 40.72097, 40.7058105, 40.759876, 40.7944610511506, 40.678273, 40.748589, 40.74026, 40.72303, 40.69148, 40.62207, 40.7229424, 40.66642, 40.758194, 40.7142239034582, 40.741315, 40.76006, 40.76553, 40.7289, 40.4038495, 40.8481627306549, 40.71637, 40.7223153441439, 40.684805, 40.82626, 40.715406, 40.6112945152771, 40.7671265, 40.64224, 40.75049486336486, 40.73113, 40.7448731218168, 40.6712095108944, 40.6199963, 40.82846, 40.7654289685161, 40.6933499872684, 40.707555318913, 40.78935, 40.74094, 40.7458208160377, 40.72572, 40.78224, 40.6489921895261, 40.71310654723133, 40.917609, 40.8756015, 40.7762350782493, 40.7762350782493, 40.842018, 40.726213, 40.736978968163, 40.77794, 40.7189526, 40.6746035, 40.77648209257472, 40.76102, 40.67279, 40.6924462067728, 40.742344, 40.769171, 40.7903349463747, 40.76686, 40.706858, 40.70656, 40.7439080906573, 40.774698, 40.745651, 40.8049797781916, 40.689671, 40.62494, 40.765664798585, 40.760868632784, 40.72345, 40.7383, 40.754782, 40.596872, 40.86922, 40.7839431762695, 40.725925, 40.7471944, 40.7106126934043, 40.8899, 40.72494, 40.7602042287575, 40.708374, 40.72290786539601, 40.76354770917096, 40.78666, 40.8545949, 40.6835199838354, 40.9126977401153, 40.77528] of type <class 'list'> is not convertible to float."
     ]
    }
   ],
   "source": [
    "# Replace None with appropriate code\n",
    "\n",
    "# Import the library\n",
    "import folium\n",
    "\n",
    "# Set up center latitude and longitude\n",
    "center_lat = [x['latitude'] for x in full_dataset]\n",
    "center_long = [x['longitude'] for x in full_dataset]\n",
    "\n",
    "# Initialize map with center lat and long\n",
    "yelp_map = folium.Map([center_lat, center_long])\n",
    "\n",
    "# Adjust this limit to see more or fewer businesses\n",
    "limit=100\n",
    "\n",
    "for business in full_dataset[:limit]:\n",
    "    # Extract information about business\n",
    "    lat = business['latitude']\n",
    "    long = business['longitude']\n",
    "    name = business['name']\n",
    "    rating = business['rating']\n",
    "    price = business['price']\n",
    "    details = \"{}\\nPrice: {} Rating:{}\".format(name,price,rating)\n",
    "    \n",
    "    # Create popup with relevant details\n",
    "    popup = folium.Popup('lat: {}, long: {}'.format(lat, long), parse_html= True)\n",
    "    \n",
    "    # Create marker with relevant lat/long and popup\n",
    "    marker = folium.Marker(location = [lat,long], popup= popup)\n",
    "    \n",
    "    marker.add_to(yelp_map)\n",
    "    \n",
    "yelp_map"
   ]
  },
  {
   "cell_type": "markdown",
   "metadata": {},
   "source": [
    "## Summary\n",
    "\n",
    "Nice work! In this lab, you've made multiple API calls to Yelp in order to paginate through a results set, performing some basic exploratory analysis and then creating a nice interactive map to display the results using Folium! Well done!"
   ]
  }
 ],
 "metadata": {
  "kernelspec": {
   "display_name": "Python 3",
   "language": "python",
   "name": "python3"
  },
  "language_info": {
   "codemirror_mode": {
    "name": "ipython",
    "version": 3
   },
   "file_extension": ".py",
   "mimetype": "text/x-python",
   "name": "python",
   "nbconvert_exporter": "python",
   "pygments_lexer": "ipython3",
   "version": "3.8.5"
  },
  "toc": {
   "base_numbering": 1,
   "nav_menu": {},
   "number_sections": true,
   "sideBar": true,
   "skip_h1_title": false,
   "title_cell": "Table of Contents",
   "title_sidebar": "Contents",
   "toc_cell": false,
   "toc_position": {},
   "toc_section_display": true,
   "toc_window_display": false
  }
 },
 "nbformat": 4,
 "nbformat_minor": 2
}
